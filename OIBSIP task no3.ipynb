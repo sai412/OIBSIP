{
 "cells": [
  {
   "cell_type": "code",
   "execution_count": null,
   "metadata": {},
   "outputs": [],
   "source": [
    "# Pandas\n",
    "import pandas as pd\n",
    "# Numpy\n",
    "import numpy as np\n",
    "# Libraries for plotting\n",
    "import matplotlib.pyplot as plt\n",
    "import seaborn as sns\n",
    "# Train-test split\n",
    "from sklearn.model_selection import train_test_split\n",
    "# Min-max scling\n",
    "from sklearn.preprocessing import MinMaxScaler\n",
    "# Statsmodel \n",
    "import statsmodels.api as sm\n",
    "# VIF \n",
    "from statsmodels.stats.outliers_influence import variance_inflation_factor\n",
    "#R-squared\n",
    "from sklearn.metrics import r2_score\n",
    "# Label encoding\n",
    "from sklearn.preprocessing import LabelEncoder\n",
    "# Importing RFE\n",
    "from sklearn.feature_selection import RFE\n",
    "# Importing LinearRegression\n",
    "from sklearn.linear_model import LinearRegression\n",
    "# Supress warning\n",
    "import warnings\n",
    "warnings.filterwarnings('ignore')"
   ]
  },
  {
   "cell_type": "code",
   "execution_count": null,
   "metadata": {},
   "outputs": [],
   "source": [
    "# Libraries for cross validation \n",
    "from sklearn.metrics import mean_squared_error\n",
    "from sklearn.model_selection import KFold\n",
    "from sklearn import metrics\n",
    "from sklearn.ensemble import RandomForestRegressor\n",
    "\n",
    "from sklearn import datasets\n",
    "from sklearn.model_selection import cross_val_score, cross_val_predict"
   ]
  },
  {
   "cell_type": "code",
   "execution_count": null,
   "metadata": {},
   "outputs": [],
   "source": [
    "pd.set_option('display.max_columns',None)\n",
    "%matplotlib inline"
   ]
  },
  {
   "cell_type": "code",
   "execution_count": null,
   "metadata": {},
   "outputs": [],
   "source": [
    "# Read the data\n",
    "df_car = pd.read_csv('CarPrice_Assignment.csv')\n",
    "df_car.head()"
   ]
  },
  {
   "cell_type": "code",
   "execution_count": null,
   "metadata": {},
   "outputs": [],
   "source": [
    "df_car.shape"
   ]
  },
  {
   "cell_type": "code",
   "execution_count": null,
   "metadata": {},
   "outputs": [],
   "source": [
    "df_car.info()"
   ]
  },
  {
   "cell_type": "code",
   "execution_count": null,
   "metadata": {},
   "outputs": [],
   "source": [
    "df_car.describe()"
   ]
  },
  {
   "cell_type": "code",
   "execution_count": null,
   "metadata": {},
   "outputs": [],
   "source": [
    "car_company = df_car[\"CarName\"].str.split(\" \", n = 1, expand = True)\n",
    "df_car['CarCompany'] = car_company[0]\n",
    "\n",
    "# Dropping 'CarName' column\n",
    "df_car.drop('CarName',axis=1,inplace=True)\n",
    "df_car.head()"
   ]
  },
  {
   "cell_type": "code",
   "execution_count": null,
   "metadata": {},
   "outputs": [],
   "source": [
    "# Dropping car_ID column as it will not be used in our analysis\n",
    "df_car.drop('car_ID',axis=1,inplace=True)"
   ]
  },
  {
   "cell_type": "code",
   "execution_count": null,
   "metadata": {},
   "outputs": [],
   "source": [
    "# Count missing values column wise\n",
    "df_car.isnull().sum()"
   ]
  },
  {
   "cell_type": "code",
   "execution_count": null,
   "metadata": {},
   "outputs": [],
   "source": [
    "#Replacing '4wd' with 'fwd' in 'drivewheel' column\n",
    "df_car['drivewheel'] = df_car['drivewheel'].replace('4wd','fwd')"
   ]
  },
  {
   "cell_type": "code",
   "execution_count": null,
   "metadata": {},
   "outputs": [],
   "source": [
    "# Replacing 'maxda' with 'mazda' in 'CarCompany' column\n",
    "df_car['CarCompany'] = df_car['CarCompany'].replace('maxda','mazda')"
   ]
  },
  {
   "cell_type": "code",
   "execution_count": null,
   "metadata": {},
   "outputs": [],
   "source": [
    "# Replacing 'porcshce' with 'porsche' in 'CarCompany' column\n",
    "df_car['CarCompany'] = df_car['CarCompany'].replace('porcshce','porsche')"
   ]
  },
  {
   "cell_type": "code",
   "execution_count": null,
   "metadata": {},
   "outputs": [],
   "source": [
    "# Replacing 'toyouta' with 'toyota' in 'CarCompany' column\n",
    "df_car['CarCompany'] = df_car['CarCompany'].replace('toyouta','toyota')"
   ]
  },
  {
   "cell_type": "code",
   "execution_count": null,
   "metadata": {},
   "outputs": [],
   "source": [
    "# Replacing 'vokswagen' with 'volkswagen' in 'CarCompany' column\n",
    "df_car['CarCompany'] = df_car['CarCompany'].replace('vokswagen','volkswagen')"
   ]
  },
  {
   "cell_type": "code",
   "execution_count": null,
   "metadata": {},
   "outputs": [],
   "source": [
    "# Replacing 'Nisaan' with 'nissan' in 'CarCompany' column\n",
    "df_car['CarCompany'] = df_car['CarCompany'].replace('Nissan','nissan')"
   ]
  },
  {
   "cell_type": "code",
   "execution_count": null,
   "metadata": {},
   "outputs": [],
   "source": [
    "# Replacing 'vw' with 'volkswagen' in 'CarCompany' column\n",
    "df_car['CarCompany'] = df_car['CarCompany'].replace('vw','volkswagen')"
   ]
  },
  {
   "cell_type": "code",
   "execution_count": null,
   "metadata": {},
   "outputs": [],
   "source": [
    "# Finding outliers in all the numerical columns with 1.5 IQR rule and removing the outlier records \n",
    "col_numeric = ['wheelbase','carlength','carwidth','carheight','curbweight',\n",
    "                    'enginesize','boreratio','stroke','compressionratio','horsepower','peakrpm','citympg','highwaympg','price']\n",
    "\n",
    "for col in col_numeric: \n",
    "    q1 = df_car[col].quantile(0.25)\n",
    "    q3 = df_car[col].quantile(0.75)\n",
    "    iqr = q3-q1\n",
    "    range_low  = q1-1.5*iqr\n",
    "    range_high = q3+1.5*iqr\n",
    "    df_car = df_car.loc[(df_car[col] > range_low) & (df_car[col] < range_high)]\n",
    "\n",
    "df_car.shape"
   ]
  },
  {
   "cell_type": "code",
   "execution_count": null,
   "metadata": {},
   "outputs": [],
   "source": [
    "# Listing categorical columns for checking data imbalance and plotting them\n",
    "col_category = ['symboling','fueltype','aspiration','doornumber','carbody','drivewheel','enginelocation','enginetype',\n",
    "           'cylindernumber','fuelsystem','CarCompany']\n",
    "\n",
    "k=0\n",
    "plt.figure(figsize=(20,25))\n",
    "for col in col_category:    \n",
    "    k=k+1\n",
    "    plt.subplot(4, 3,k)    \n",
    "    df_car[col].value_counts().plot(kind='bar');\n",
    "    plt.title(col)"
   ]
  },
  {
   "cell_type": "code",
   "execution_count": null,
   "metadata": {},
   "outputs": [],
   "source": [
    "# Visualising the numerical variables\n",
    "plt.figure(figsize=(12,12))\n",
    "sns.pairplot(df_car[col_numeric])\n",
    "plt.show()"
   ]
  },
  {
   "cell_type": "code",
   "execution_count": null,
   "metadata": {},
   "outputs": [],
   "source": [
    "# Boxplot for all categorical variables except CarCompany\n",
    "# As X labels are not clearly visible for CarCompany. It is plotted in the next cell with bigger figure size.\n",
    "k=0\n",
    "plt.figure(figsize=(20,18))\n",
    "for col in range (len(col_category)-1):    \n",
    "    k=k+1\n",
    "    plt.subplot(4, 3, k)   \n",
    "    ax = sns.boxplot(x = col_category[col], y = 'price', data = df_car)"
   ]
  },
  {
   "cell_type": "code",
   "execution_count": null,
   "metadata": {},
   "outputs": [],
   "source": [
    "plt.figure(figsize=(15,8))\n",
    "ax = sns.boxplot(x = 'CarCompany', y = 'price', data = df_car)\n",
    "temp = ax.set_xticklabels(ax.get_xticklabels(), rotation = 45, horizontalalignment='right')"
   ]
  },
  {
   "cell_type": "code",
   "execution_count": null,
   "metadata": {},
   "outputs": [],
   "source": [
    "# fueltype\n",
    "# Convert \"gas\" to 1 and \"diesel\" to 0\n",
    "df_car['fueltype'] = df_car['fueltype'].map({'gas': 1, 'diesel': 0})\n",
    "df_car.head()"
   ]
  },
  {
   "cell_type": "code",
   "execution_count": null,
   "metadata": {},
   "outputs": [],
   "source": [
    "# aspiration\n",
    "# Convert \"std\" to 1 and \"turbo\" to 0\n",
    "df_car['aspiration'] = df_car['aspiration'].map({'std':1, 'turbo':0})\n",
    "df_car.head()"
   ]
  },
  {
   "cell_type": "code",
   "execution_count": null,
   "metadata": {},
   "outputs": [],
   "source": [
    "# doornumber\n",
    "# Convert \"four\" to 1 and \"two\" to 0\n",
    "df_car['doornumber'] = df_car['doornumber'].map({'four':1, 'two':0})\n",
    "df_car.head()"
   ]
  },
  {
   "cell_type": "code",
   "execution_count": null,
   "metadata": {},
   "outputs": [],
   "source": [
    "# drivewheel\n",
    "# Convert \"fwd\" to 1 and \"rwd\" to 0\n",
    "df_car['drivewheel'] = df_car['drivewheel'].map({'fwd':1, 'rwd':0})\n",
    "df_car.head()"
   ]
  },
  {
   "cell_type": "code",
   "execution_count": null,
   "metadata": {},
   "outputs": [],
   "source": [
    "# enginelocation\n",
    "# Convert \"front\" to 1 and \"rear\" to 0\n",
    "df_car['enginelocation'] = df_car['enginelocation'].map({'front':1, 'rear':0})\n",
    "df_car.head()"
   ]
  },
  {
   "cell_type": "code",
   "execution_count": null,
   "metadata": {},
   "outputs": [],
   "source": [
    "# Creating dummy variables for 'symboling'\n",
    "# Dropping the redundant dummy variable (-2)\n",
    "symboling_status = pd.get_dummies(df_car['symboling'],drop_first=True)\n",
    "symboling_status.head()"
   ]
  },
  {
   "cell_type": "code",
   "execution_count": null,
   "metadata": {},
   "outputs": [],
   "source": [
    "# Renaming column names for better readability\n",
    "symboling_status = symboling_status.rename(columns={-1:'symboling(-1)', 0:'symboling(0)', 1:'symboling(1)',2:'symboling(2)', 3:'symboling(3)'})\n",
    "symboling_status.head()"
   ]
  },
  {
   "cell_type": "code",
   "execution_count": null,
   "metadata": {},
   "outputs": [],
   "source": [
    "# Concating the dummy dataframe with original dataframe\n",
    "df_car = pd.concat([df_car,symboling_status], axis=1)\n",
    "df_car.head()"
   ]
  },
  {
   "cell_type": "code",
   "execution_count": null,
   "metadata": {},
   "outputs": [],
   "source": [
    "# Dropping the 'symboling' column as we don't need it anymore\n",
    "df_car = df_car.drop('symboling',axis=1)\n",
    "df_car.head()"
   ]
  },
  {
   "cell_type": "code",
   "execution_count": null,
   "metadata": {},
   "outputs": [],
   "source": [
    "# Creating dummy variables for 'carbody'\n",
    "# Dropping the redundant dummy variable (convertible)\n",
    "carbody_status = pd.get_dummies(df_car['carbody'],drop_first=True)\n",
    "carbody_status.head()"
   ]
  },
  {
   "cell_type": "code",
   "execution_count": null,
   "metadata": {},
   "outputs": [],
   "source": [
    "# Renaming column names for better readability\n",
    "carbody_status = carbody_status.rename(columns={'hardtop':'carbody(hardtop)', 'hatchback':'carbody(hatchback)', 'sedan':'carbody(sedan)','wagon':'carbody(wagon)'})\n",
    "carbody_status.head()"
   ]
  },
  {
   "cell_type": "code",
   "execution_count": null,
   "metadata": {},
   "outputs": [],
   "source": [
    "# Concating the dummy dataframe with original dataframe\n",
    "df_car = pd.concat([df_car,carbody_status], axis=1)\n",
    "df_car.head()"
   ]
  },
  {
   "cell_type": "code",
   "execution_count": null,
   "metadata": {},
   "outputs": [],
   "source": [
    "# Dropping the 'symboling' column as we don't need it\n",
    "df_car = df_car.drop('carbody',axis=1)\n",
    "df_car.head()"
   ]
  },
  {
   "cell_type": "code",
   "execution_count": null,
   "metadata": {},
   "outputs": [],
   "source": [
    "# Creating dummy variables for 'enginetype'\n",
    "# Dropping the redundant dummy variable (dohc)\n",
    "enginetype_status = pd.get_dummies(df_car['enginetype'], drop_first=True)\n",
    "enginetype_status.head()"
   ]
  },
  {
   "cell_type": "code",
   "execution_count": null,
   "metadata": {},
   "outputs": [],
   "source": [
    "# Renaming column name for better readability\n",
    "enginetype_status = enginetype_status.rename(columns={'dohcv':'enginetype(dohcv)', 'l':'enginetype(l)', 'ohc':'enginetype(ohc)', \n",
    "                                                      'ohcf':'enginetype(ohcf)','ohcv':'enginetype(ohcv)' ,'rotor':'enginetype(rotor)'})\n",
    "enginetype_status.head()"
   ]
  },
  {
   "cell_type": "code",
   "execution_count": null,
   "metadata": {},
   "outputs": [],
   "source": [
    "# Concating the dummy dataframe with original dataframe\n",
    "df_car = pd.concat([df_car,enginetype_status], axis=1)\n",
    "df_car.head()"
   ]
  },
  {
   "cell_type": "code",
   "execution_count": null,
   "metadata": {},
   "outputs": [],
   "source": [
    "# Dropping the 'enginetype' column as we don't need it\n",
    "df_car = df_car.drop('enginetype',axis=1)\n",
    "df_car.head()"
   ]
  },
  {
   "cell_type": "code",
   "execution_count": null,
   "metadata": {},
   "outputs": [],
   "source": [
    "# Creating dummy variables for 'cylindernumber'\n",
    "# Dropping the redundant dummy variable (eight)\n",
    "cylindernumber_status = pd.get_dummies(df_car['cylindernumber'], drop_first=True)\n",
    "cylindernumber_status.head()"
   ]
  },
  {
   "cell_type": "code",
   "execution_count": null,
   "metadata": {},
   "outputs": [],
   "source": [
    "# Renaming column name for better readability\n",
    "cylindernumber_status = cylindernumber_status.rename(columns={'five':'cylindernumber(five)', 'four':'cylindernumber(four)', 'six':'cylindernumber(six)', \n",
    "                                                      'three':'cylindernumber(three)','twelve':'cylindernumber(twelve)' ,'two':'cylindernumber(two)'})\n",
    "cylindernumber_status.head()"
   ]
  },
  {
   "cell_type": "code",
   "execution_count": null,
   "metadata": {},
   "outputs": [],
   "source": [
    "# Concating the dummy dataframe with original dataframe\n",
    "df_car = pd.concat([df_car,cylindernumber_status], axis=1)\n",
    "df_car.head()"
   ]
  },
  {
   "cell_type": "code",
   "execution_count": null,
   "metadata": {},
   "outputs": [],
   "source": [
    "# Dropping the 'cylindernumber' column as we don't need it\n",
    "df_car = df_car.drop('cylindernumber',axis=1)\n",
    "df_car.head()"
   ]
  },
  {
   "cell_type": "code",
   "execution_count": null,
   "metadata": {},
   "outputs": [],
   "source": [
    "# Creating dummy variables for 'fuelsystem'\n",
    "# Dropping the redundant dummy variable (1bbl)\n",
    "fuelsystem_status = pd.get_dummies(df_car['fuelsystem'], drop_first=True)\n",
    "fuelsystem_status.head()"
   ]
  },
  {
   "cell_type": "code",
   "execution_count": null,
   "metadata": {},
   "outputs": [
    {
     "ename": "",
     "evalue": "",
     "output_type": "error",
     "traceback": [
      "\u001b[1;31mRunning cells with 'd:\\python.exe' requires the ipykernel package.\n",
      "\u001b[1;31mRun the following command to install 'ipykernel' into the Python environment. \n",
      "\u001b[1;31mCommand: 'd:/python.exe -m pip install ipykernel -U --user --force-reinstall'"
     ]
    }
   ],
   "source": [
    "# Renaming column name for better readability\n",
    "fuelsystem_status = fuelsystem_status.rename(columns={'2bbl':'fuelsystem(2bbl)', '4bbl':'fuelsystem(4bbl)', 'idi':'fuelsystem(idi)', \n",
    "                                                      'mfi':'fuelsystem(mfi)','mpfi':'fuelsystem(mpfi)' ,'spdi':'fuelsystem(spdi)',\n",
    "                                                             'spfi':'fuelsystem(spfi)'})\n",
    "fuelsystem_status.head()"
   ]
  },
  {
   "cell_type": "code",
   "execution_count": null,
   "metadata": {},
   "outputs": [],
   "source": [
    "# Concating the dummy dataframe with original dataframe\n",
    "df_car = pd.concat([df_car,fuelsystem_status], axis=1)\n",
    "df_car.head()"
   ]
  },
  {
   "cell_type": "code",
   "execution_count": null,
   "metadata": {},
   "outputs": [],
   "source": [
    "df_car.info()"
   ]
  },
  {
   "cell_type": "code",
   "execution_count": null,
   "metadata": {},
   "outputs": [],
   "source": [
    "# Splitting train and test dataset into 70:30 percent ratio.\n",
    "df_train, df_test = train_test_split(df_car, train_size=0.7, random_state=100)\n",
    "print(df_train.shape)\n",
    "print(df_test.shape)"
   ]
  },
  {
   "cell_type": "code",
   "execution_count": null,
   "metadata": {},
   "outputs": [],
   "source": [
    "# Create a list of numeric variables. We don't need categorical variables because they are already scalled in 0 and 1.\n",
    "num_vars = ['wheelbase','carlength','carwidth','carheight','curbweight','enginesize','boreratio','stroke',\n",
    "            'compressionratio','horsepower','peakrpm','citympg','highwaympg','price']\n",
    "\n",
    "# Instantiate an object\n",
    "scaler = MinMaxScaler()\n",
    "\n",
    "# Fit the data in the object\n",
    "df_train[num_vars] = scaler.fit_transform(df_train[num_vars])\n",
    "df_train.head()"
   ]
  },
  {
   "cell_type": "code",
   "execution_count": null,
   "metadata": {},
   "outputs": [],
   "source": [
    "df_train.describe()"
   ]
  },
  {
   "cell_type": "code",
   "execution_count": null,
   "metadata": {},
   "outputs": [],
   "source": [
    "#Let's check the correlation coefficients of all numerical variables except categorical variables to see which variables are highly correlated\n",
    "\n",
    "plt.figure(figsize = (16, 8))\n",
    "sns.heatmap(df_train[num_vars].corr(), annot = True, cmap=\"YlGnBu\")\n",
    "plt.show()"
   ]
  },
  {
   "cell_type": "code",
   "execution_count": null,
   "metadata": {},
   "outputs": [],
   "source": [
    "# Popping out the 'price' column for y_train\n",
    "y_train = df_train.pop('price') \n",
    "# Creating X_train\n",
    "X_train = df_train"
   ]
  },
  {
   "cell_type": "code",
   "execution_count": null,
   "metadata": {},
   "outputs": [],
   "source": [
    "y_train.head()"
   ]
  },
  {
   "cell_type": "code",
   "execution_count": null,
   "metadata": {},
   "outputs": [],
   "source": [
    "X_train.head()"
   ]
  },
  {
   "cell_type": "code",
   "execution_count": null,
   "metadata": {},
   "outputs": [],
   "source": [
    "# Creating the model using scikit learn \n",
    "lm = LinearRegression()\n",
    "lm.fit(X_train, y_train)"
   ]
  },
  {
   "cell_type": "code",
   "execution_count": null,
   "metadata": {},
   "outputs": [],
   "source": [
    "# RFE with the number of variables 20. It will select top 20 features.\n",
    "rfe = RFE(lm, 20)\n",
    "ref = rfe.fit(X_train, y_train)"
   ]
  },
  {
   "cell_type": "code",
   "execution_count": null,
   "metadata": {},
   "outputs": [],
   "source": [
    "# Listing the feature variables with their RFE status and rank \n",
    "list(zip(X_train.columns, rfe.support_, rfe.ranking_))"
   ]
  },
  {
   "cell_type": "code",
   "execution_count": null,
   "metadata": {},
   "outputs": [],
   "source": [
    "# Listing the feature variables with their RFE status and rank \n",
    "list(zip(X_train.columns, rfe.support_, rfe.ranking_))"
   ]
  },
  {
   "cell_type": "code",
   "execution_count": null,
   "metadata": {},
   "outputs": [],
   "source": [
    "# Not selected features by RFE\n",
    "X_train.columns[~rfe.support_]"
   ]
  },
  {
   "cell_type": "code",
   "execution_count": null,
   "metadata": {},
   "outputs": [],
   "source": [
    "# Creating X_train dataframe with RFE selected variables\n",
    "X_train_1 = X_train[rfe_cols]\n",
    "X_train_1.head()"
   ]
  },
  {
   "cell_type": "code",
   "execution_count": null,
   "metadata": {},
   "outputs": [],
   "source": [
    "# Adding constant because statsmodel library doesn't include the intercept by default. \n",
    "X_train_sm_1 = sm.add_constant(X_train_1)\n",
    "# Creating model\n",
    "lr_1 = sm.OLS(y_train, X_train_sm_1)\n",
    "# Fit the model\n",
    "lr_model_1 = lr_1.fit()\n",
    "print(lr_model_1.summary())"
   ]
  },
  {
   "cell_type": "code",
   "execution_count": null,
   "metadata": {},
   "outputs": [],
   "source": [
    "# Create a dataframe that will contain the names of all the feature variables and their respective VIFs\n",
    "vif = pd.DataFrame()\n",
    "vif['Features'] = X_train_1.columns\n",
    "vif['VIF'] = [variance_inflation_factor(X_train_1.values, i) for i in range(X_train_1.shape[1])]\n",
    "vif['VIF'] = round(vif['VIF'], 2)\n",
    "vif = vif.sort_values(by = \"VIF\", ascending = False)\n",
    "vif"
   ]
  },
  {
   "cell_type": "code",
   "execution_count": null,
   "metadata": {},
   "outputs": [],
   "source": [
    "# Removing wheelbase\n",
    "X_train_2 = X_train_1.drop('wheelbase',axis=1)\n",
    "# Adding constant \n",
    "X_train_sm_2 = sm.add_constant(X_train_2)\n",
    "# Creating and fitting the model\n",
    "lr_model_2 = sm.OLS(y_train, X_train_sm_2).fit()\n",
    "print(lr_model_2.summary())"
   ]
  },
  {
   "cell_type": "code",
   "execution_count": null,
   "metadata": {},
   "outputs": [],
   "source": [
    "# Create VIF for Model-2\n",
    "vif = pd.DataFrame()\n",
    "vif['Features'] = X_train_2.columns\n",
    "vif['VIF'] = [variance_inflation_factor(X_train_2.values, i) for i in range(X_train_2.shape[1])]\n",
    "vif['VIF'] = round(vif['VIF'], 2)\n",
    "vif = vif.sort_values(by = \"VIF\", ascending = False)\n",
    "vif"
   ]
  },
  {
   "cell_type": "code",
   "execution_count": null,
   "metadata": {},
   "outputs": [],
   "source": [
    "# Removing boreratio\n",
    "X_train_3 = X_train_2.drop('boreratio',axis=1)"
   ]
  },
  {
   "cell_type": "code",
   "execution_count": null,
   "metadata": {},
   "outputs": [],
   "source": [
    "# Adding constant \n",
    "X_train_sm_3 = sm.add_constant(X_train_3)\n",
    "# Creating and fitting the model\n",
    "lr_model_3 = sm.OLS(y_train, X_train_sm_3).fit()\n",
    "print(lr_model_3.summary())"
   ]
  },
  {
   "cell_type": "code",
   "execution_count": null,
   "metadata": {},
   "outputs": [],
   "source": [
    "# Create VIF for Model-3\n",
    "vif = pd.DataFrame()\n",
    "vif['Features'] = X_train_3.columns\n",
    "vif['VIF'] = [variance_inflation_factor(X_train_3.values, i) for i in range(X_train_3.shape[1])]\n",
    "vif['VIF'] = round(vif['VIF'], 2)\n",
    "vif = vif.sort_values(by = \"VIF\", ascending = False)\n",
    "vif"
   ]
  },
  {
   "cell_type": "code",
   "execution_count": null,
   "metadata": {},
   "outputs": [],
   "source": [
    "# Removing fuelsystem(4bbl)\n",
    "X_train_4 = X_train_3.drop('fuelsystem(4bbl)',axis=1)"
   ]
  },
  {
   "cell_type": "code",
   "execution_count": null,
   "metadata": {},
   "outputs": [],
   "source": [
    "# Adding constant \n",
    "X_train_sm_4 = sm.add_constant(X_train_4)\n",
    "# Creating model\n",
    "lr_model_4 = sm.OLS(y_train, X_train_sm_4).fit()\n",
    "print(lr_model_4.summary())"
   ]
  },
  {
   "cell_type": "code",
   "execution_count": null,
   "metadata": {},
   "outputs": [],
   "source": [
    "# Create VIF for Model-4\n",
    "vif = pd.DataFrame()\n",
    "vif['Features'] = X_train_4.columns\n",
    "vif['VIF'] = [variance_inflation_factor(X_train_4.values, i) for i in range(X_train_4.shape[1])]\n",
    "vif['VIF'] = round(vif['VIF'], 2)\n",
    "vif = vif.sort_values(by = \"VIF\", ascending = False)\n",
    "vif"
   ]
  },
  {
   "cell_type": "code",
   "execution_count": null,
   "metadata": {},
   "outputs": [],
   "source": [
    "# Removing enginetype(rotor)\n",
    "X_train_5 = X_train_4.drop('enginetype(rotor)',axis=1)"
   ]
  },
  {
   "cell_type": "code",
   "execution_count": null,
   "metadata": {},
   "outputs": [],
   "source": [
    "# Adding constant \n",
    "X_train_sm_5 = sm.add_constant(X_train_5)\n",
    "# Creating model\n",
    "lr_model_5 = sm.OLS(y_train, X_train_sm_5).fit()\n",
    "print(lr_model_5.summary())"
   ]
  },
  {
   "cell_type": "code",
   "execution_count": null,
   "metadata": {},
   "outputs": [],
   "source": [
    "# Create VIF for Model-5\n",
    "vif = pd.DataFrame()\n",
    "vif['Features'] = X_train_5.columns\n",
    "vif['VIF'] = [variance_inflation_factor(X_train_5.values, i) for i in range(X_train_5.shape[1])]\n",
    "vif['VIF'] = round(vif['VIF'], 2)\n",
    "vif = vif.sort_values(by = \"VIF\", ascending = False)\n",
    "vif"
   ]
  },
  {
   "cell_type": "code",
   "execution_count": null,
   "metadata": {},
   "outputs": [],
   "source": [
    "# Removing cylindernumber(two)\n",
    "X_train_6 = X_train_5.drop('cylindernumber(two)',axis=1)\n"
   ]
  },
  {
   "cell_type": "code",
   "execution_count": null,
   "metadata": {},
   "outputs": [],
   "source": [
    "# Adding constant \n",
    "X_train_sm_6 = sm.add_constant(X_train_6)\n",
    "# Creating model\n",
    "lr_model_6 = sm.OLS(y_train, X_train_sm_6).fit()\n",
    "print(lr_model_6.summary())"
   ]
  },
  {
   "cell_type": "code",
   "execution_count": null,
   "metadata": {},
   "outputs": [],
   "source": [
    "# Create VIF for Model-6\n",
    "vif = pd.DataFrame()\n",
    "vif['Features'] = X_train_6.columns\n",
    "vif['VIF'] = [variance_inflation_factor(X_train_6.values, i) for i in range(X_train_6.shape[1])]\n",
    "vif['VIF'] = round(vif['VIF'], 2)\n",
    "vif = vif.sort_values(by = \"VIF\", ascending = False)\n",
    "vif"
   ]
  },
  {
   "cell_type": "code",
   "execution_count": null,
   "metadata": {},
   "outputs": [],
   "source": [
    "# Removing enginetype(l)\n",
    "X_train_7 = X_train_6.drop('enginetype(l)',axis=1)"
   ]
  },
  {
   "cell_type": "code",
   "execution_count": null,
   "metadata": {},
   "outputs": [],
   "source": [
    "# Adding constant \n",
    "X_train_sm_7 = sm.add_constant(X_train_7)\n",
    "# Creating model\n",
    "lr_model_7 = sm.OLS(y_train, X_train_sm_7).fit()\n",
    "print(lr_model_7.summary())"
   ]
  },
  {
   "cell_type": "code",
   "execution_count": null,
   "metadata": {},
   "outputs": [],
   "source": [
    "# Create VIF for Model-7\n",
    "vif = pd.DataFrame()\n",
    "vif['Features'] = X_train_7.columns\n",
    "vif['VIF'] = [variance_inflation_factor(X_train_7.values, i) for i in range(X_train_7.shape[1])]\n",
    "vif['VIF'] = round(vif['VIF'], 2)\n",
    "vif = vif.sort_values(by = \"VIF\", ascending = False)\n",
    "vif"
   ]
  },
  {
   "cell_type": "code",
   "execution_count": null,
   "metadata": {},
   "outputs": [],
   "source": [
    "# Removing carwidth\n",
    "X_train_8 = X_train_7.drop('carwidth',axis=1)"
   ]
  },
  {
   "cell_type": "code",
   "execution_count": null,
   "metadata": {},
   "outputs": [],
   "source": [
    "# Adding constant \n",
    "X_train_sm_8 = sm.add_constant(X_train_8)\n",
    "# Creating model\n",
    "lr_model_8 = sm.OLS(y_train, X_train_sm_8).fit()\n",
    "print(lr_model_8.summary())\n"
   ]
  },
  {
   "cell_type": "code",
   "execution_count": null,
   "metadata": {},
   "outputs": [],
   "source": [
    "# Create VIF for Model-8\n",
    "vif = pd.DataFrame()\n",
    "vif['Features'] = X_train_8.columns\n",
    "vif['VIF'] = [variance_inflation_factor(X_train_8.values, i) for i in range(X_train_8.shape[1])]\n",
    "vif['VIF'] = round(vif['VIF'], 2)\n",
    "vif = vif.sort_values(by = \"VIF\", ascending = False)\n",
    "vif"
   ]
  },
  {
   "cell_type": "code",
   "execution_count": null,
   "metadata": {},
   "outputs": [],
   "source": [
    "# Removing CarCompany(isuzu)\n",
    "X_train_9 = X_train_8.drop('CarCompany(isuzu)',axis=1)"
   ]
  },
  {
   "cell_type": "code",
   "execution_count": null,
   "metadata": {},
   "outputs": [],
   "source": [
    "# Adding constant \n",
    "X_train_sm_9 = sm.add_constant(X_train_9)\n",
    "# Creating model\n",
    "lr_model_9 = sm.OLS(y_train, X_train_sm_9).fit()\n",
    "print(lr_model_9.summary())"
   ]
  },
  {
   "cell_type": "code",
   "execution_count": null,
   "metadata": {},
   "outputs": [],
   "source": [
    "# Create VIF for Model-9\n",
    "vif = pd.DataFrame()\n",
    "vif['Features'] = X_train_9.columns\n",
    "vif['VIF'] = [variance_inflation_factor(X_train_9.values, i) for i in range(X_train_9.shape[1])]\n",
    "vif['VIF'] = round(vif['VIF'], 2)\n",
    "vif = vif.sort_values(by = \"VIF\", ascending = False)\n",
    "vif"
   ]
  },
  {
   "cell_type": "code",
   "execution_count": null,
   "metadata": {},
   "outputs": [],
   "source": [
    "# Removing CarCompany(peugeot)\n",
    "X_train_10 = X_train_9.drop('CarCompany(peugeot)',axis=1)"
   ]
  },
  {
   "cell_type": "code",
   "execution_count": null,
   "metadata": {},
   "outputs": [],
   "source": [
    "# Adding constant \n",
    "X_train_sm_10 = sm.add_constant(X_train_10)\n",
    "# Creating model\n",
    "lr_model_10 = sm.OLS(y_train, X_train_sm_10).fit()\n",
    "print(lr_model_10.summary())"
   ]
  },
  {
   "cell_type": "code",
   "execution_count": null,
   "metadata": {},
   "outputs": [],
   "source": [
    "# Create VIF for Model-10\n",
    "vif = pd.DataFrame()\n",
    "vif['Features'] = X_train_10.columns\n",
    "vif['VIF'] = [variance_inflation_factor(X_train_10.values, i) for i in range(X_train_10.shape[1])]\n",
    "vif['VIF'] = round(vif['VIF'], 2)\n",
    "vif = vif.sort_values(by = \"VIF\", ascending = False)\n",
    "vif"
   ]
  },
  {
   "cell_type": "code",
   "execution_count": null,
   "metadata": {},
   "outputs": [],
   "source": [
    "# Removing aspiration\n",
    "X_train_11 = X_train_10.drop('aspiration',axis=1)"
   ]
  },
  {
   "cell_type": "code",
   "execution_count": null,
   "metadata": {},
   "outputs": [],
   "source": [
    "# Adding constant \n",
    "X_train_sm_11 = sm.add_constant(X_train_11)\n",
    "# Creating model\n",
    "lr_model_11 = sm.OLS(y_train, X_train_sm_11).fit()\n",
    "print(lr_model_11.summary())"
   ]
  },
  {
   "cell_type": "code",
   "execution_count": null,
   "metadata": {},
   "outputs": [],
   "source": [
    "# Create VIF for Model-11\n",
    "vif = pd.DataFrame()\n",
    "vif['Features'] = X_train_11.columns\n",
    "vif['VIF'] = [variance_inflation_factor(X_train_11.values, i) for i in range(X_train_11.shape[1])]\n",
    "vif['VIF'] = round(vif['VIF'], 2)\n",
    "vif = vif.sort_values(by = \"VIF\", ascending = False)\n",
    "vif"
   ]
  },
  {
   "cell_type": "code",
   "execution_count": null,
   "metadata": {},
   "outputs": [],
   "source": [
    "# Removing enginetype(ohc)\n",
    "X_train_12 = X_train_11.drop('enginetype(ohc)',axis=1)"
   ]
  },
  {
   "cell_type": "code",
   "execution_count": null,
   "metadata": {},
   "outputs": [],
   "source": [
    "# Adding constant \n",
    "X_train_sm_12 = sm.add_constant(X_train_12)\n",
    "# Creating model\n",
    "lr_model_12 = sm.OLS(y_train, X_train_sm_12).fit()\n",
    "print(lr_model_12.summary())"
   ]
  },
  {
   "cell_type": "code",
   "execution_count": null,
   "metadata": {},
   "outputs": [],
   "source": [
    "# Create VIF for Model-12\n",
    "vif = pd.DataFrame()\n",
    "vif['Features'] = X_train_12.columns\n",
    "vif['VIF'] = [variance_inflation_factor(X_train_12.values, i) for i in range(X_train_12.shape[1])]\n",
    "vif['VIF'] = round(vif['VIF'], 2)\n",
    "vif = vif.sort_values(by = \"VIF\", ascending = False)\n",
    "vif"
   ]
  },
  {
   "cell_type": "code",
   "execution_count": null,
   "metadata": {},
   "outputs": [],
   "source": [
    "# Find y_train prediction\n",
    "y_train_pred = lr_model_12.predict(X_train_sm_12)"
   ]
  },
  {
   "cell_type": "code",
   "execution_count": null,
   "metadata": {},
   "outputs": [],
   "source": [
    "# Residual\n",
    "residual = y_train - y_train_pred"
   ]
  },
  {
   "cell_type": "code",
   "execution_count": null,
   "metadata": {},
   "outputs": [],
   "source": [
    "# Distribution of residuals or error terms\n",
    "sns.distplot(residual)"
   ]
  },
  {
   "cell_type": "code",
   "execution_count": null,
   "metadata": {},
   "outputs": [],
   "source": [
    "plt.figure(figsize=(15,10))\n",
    "plt.subplot(3,3,1)\n",
    "plt.scatter(X_train_12['curbweight'], residual)\n",
    "plt.xlabel('curbweight')\n",
    "plt.ylabel('residual')\n",
    "plt.subplot(3,3,2)\n",
    "plt.scatter(X_train_12['carbody(hardtop)'], residual)\n",
    "plt.xlabel('carbody(hardtop)')\n",
    "plt.ylabel('residual')\n",
    "plt.subplot(3,3,3)\n",
    "plt.scatter(X_train_12['carbody(hatchback)'], residual)\n",
    "plt.xlabel('carbody(hatchback)')\n",
    "plt.ylabel('residual')\n",
    "plt.subplot(3,3,4)\n",
    "plt.scatter(X_train_12['carbody(sedan)'], residual)\n",
    "plt.xlabel('carbody(sedan)')\n",
    "plt.ylabel('residual')\n",
    "plt.subplot(3,3,5)\n",
    "plt.scatter(X_train_12['carbody(wagon)'], residual)\n",
    "plt.xlabel('carbody(wagon)')\n",
    "plt.ylabel('residual')\n",
    "plt.subplot(3,3,6)\n",
    "plt.scatter(X_train_12['CarCompany(audi)'], residual)\n",
    "plt.xlabel('CarCompany(audi)')\n",
    "plt.ylabel('residual')\n",
    "plt.subplot(3,3,7)\n",
    "plt.scatter(X_train_12['CarCompany(bmw)'], residual)\n",
    "plt.xlabel('CarCompany(bmw)')\n",
    "plt.ylabel('residual')\n",
    "plt.subplot(3,3,8)\n",
    "plt.scatter(X_train_12['CarCompany(porsche)'], residual)\n",
    "plt.xlabel('CarCompany(porsche)')\n",
    "plt.ylabel('residual')\n",
    "plt.subplot(3,3,9)\n",
    "plt.scatter(X_train_12['CarCompany(volvo)'], residual)\n",
    "plt.xlabel('CarCompany(volvo)')\n",
    "plt.ylabel('residual')\n"
   ]
  },
  {
   "cell_type": "code",
   "execution_count": null,
   "metadata": {},
   "outputs": [],
   "source": [
    "# Scale the test set variables with min-max scaler\n",
    "\n",
    "# Transform the data\n",
    "df_test[num_vars] = scaler.transform(df_test[num_vars])\n",
    "df_test.head()"
   ]
  },
  {
   "cell_type": "code",
   "execution_count": null,
   "metadata": {},
   "outputs": [],
   "source": [
    "df_test.describe()"
   ]
  },
  {
   "cell_type": "code",
   "execution_count": null,
   "metadata": {},
   "outputs": [],
   "source": [
    "# Popping out the 'price' column for y_test\n",
    "y_test = df_test.pop('price')\n",
    "\n",
    "# Creating X_test\n",
    "X_test = df_test"
   ]
  },
  {
   "cell_type": "code",
   "execution_count": null,
   "metadata": {},
   "outputs": [],
   "source": [
    "# Taking only the columns from the final model.\n",
    "X_test = X_test[X_train_12.columns]\n",
    "X_test.head()"
   ]
  },
  {
   "cell_type": "code",
   "execution_count": null,
   "metadata": {},
   "outputs": [],
   "source": [
    "# Add constant\n",
    "X_test_sm = sm.add_constant(X_test)\n",
    "X_test_sm.head()"
   ]
  },
  {
   "cell_type": "code",
   "execution_count": null,
   "metadata": {},
   "outputs": [],
   "source": [
    "# Predict the model on the test set\n",
    "y_test_pred = lr_model_12.predict(X_test_sm)"
   ]
  },
  {
   "cell_type": "code",
   "execution_count": null,
   "metadata": {},
   "outputs": [],
   "source": [
    "# Evaluate the model with r-squared on the test set\n",
    "r2 = r2_score(y_test, y_test_pred)\n",
    "r2"
   ]
  },
  {
   "cell_type": "code",
   "execution_count": null,
   "metadata": {},
   "outputs": [],
   "source": [
    "# Plotting y_test and y_test_pred to understand the spread.\n",
    "fig = plt.figure()\n",
    "plt.scatter(y_test,y_test_pred)\n",
    "fig.suptitle('y_test vs y_test_pred', fontsize=20)               \n",
    "plt.xlabel('y_test', fontsize=18)                         \n",
    "plt.ylabel('y_test_pred', fontsize=16)"
   ]
  },
  {
   "cell_type": "code",
   "execution_count": null,
   "metadata": {},
   "outputs": [],
   "source": []
  }
 ],
 "metadata": {
  "kernelspec": {
   "display_name": "Python 3",
   "language": "python",
   "name": "python3"
  },
  "language_info": {
   "name": "python",
   "version": "3.11.2"
  },
  "orig_nbformat": 4
 },
 "nbformat": 4,
 "nbformat_minor": 2
}
